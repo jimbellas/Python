{
  "cells": [
    {
      "cell_type": "markdown",
      "metadata": {
        "id": "view-in-github",
        "colab_type": "text"
      },
      "source": [
        "<a href=\"https://colab.research.google.com/github/jimbellas/Python/blob/main/ME_Class/module_00/HW_01.ipynb\" target=\"_parent\"><img src=\"https://colab.research.google.com/assets/colab-badge.svg\" alt=\"Open In Colab\"/></a>"
      ]
    },
    {
      "cell_type": "code",
      "execution_count": null,
      "id": "344013d1",
      "metadata": {
        "id": "344013d1"
      },
      "outputs": [],
      "source": [
        "import numpy as np\n",
        "import matplotlib.pyplot as plt\n",
        "plt.style.use('fivethirtyeight')\n",
        "import pandas as pd"
      ]
    },
    {
      "cell_type": "markdown",
      "id": "d446d040",
      "metadata": {
        "id": "d446d040"
      },
      "source": [
        "# HW_01 - Generative AI writing analysis and Monte Carlo research\n",
        "\n",
        "In this assignment, you will generate 500 words using a generative AI prompt and prompt engineering. Then, edit the document to use [active]() phrasing and add your own ideas to the document.\n",
        "\n",
        "**Scenario:** Your goal is to create a short technical report to convince your manager that you should use [Monte Carlo](https://en.wikipedia.org/wiki/Monte_Carlo_method) models in your engineering work.\n",
        "\n",
        "choose your role:\n",
        "- [ ] lead engineer\n",
        "- [ ]  junior engineer\n",
        "- [ ] managing engineer\n",
        "\n",
        "choose your company product:\n",
        "- [ ] bicycles\n",
        "- [ ] airplane engines\n",
        "- [ ] toothbrushes\n",
        "- [ ] corkscrews\n",
        "\n",
        "**Goal:** Justify the use of Monte Carlo methods in your role to design your product. This could include,\n",
        "\n",
        "- quantifying uncertainty in design\n",
        "- modeling process times\n",
        "- Mechanical strength of design\n",
        "- Fatigue limits of design\n",
        "- changes in heat and mass transfer of devices\n",
        "- account for variables outside the engineering scope of the design"
      ]
    },
    {
      "cell_type": "markdown",
      "id": "87705f35",
      "metadata": {
        "id": "87705f35"
      },
      "source": [
        "## Prompt Input and Output\n",
        "\n",
        "Prompt\n",
        "\n",
        "In 500 words I want you to do the following... As a Junior Engineer, Your goal is to create a short technical report to convince your manager that you should use Monte Carlo models in your engineering work. The business product are corkscrews. Justify the use of Monte Carlo methods in your role to design your product. This could include, - quantifying uncertainty in design - modeling process times - Mechanical strength of design - Fatigue limits of design - changes in heat and mass transfer of devices - account for variables outside the engineering scope of the design\n",
        "\n",
        "\n",
        "Output\n",
        "\n",
        "Technical Report: Justification for Using Monte Carlo Methods in Corkscrew Design**\n",
        "\n",
        "**Introduction** Monte Carlo (MC) simulation is a powerful statistical method used to analyze and quantify uncertainties in engineering design. Given the variability in material properties, mechanical stresses, and operational conditions, implementing Monte Carlo models in the design and manufacturing process of corkscrews will enable us to enhance product reliability, efficiency, and robustness. This report outlines key areas where Monte Carlo simulations can be leveraged in our engineering workflow.\n",
        "\n",
        "**Quantifying Uncertainty in Design** Corkscrews are subject to multiple uncertainties, such as variations in material composition, user force application, and manufacturing tolerances. Traditional deterministic models may not accurately capture these uncertainties, leading to over- or under-designed components. Monte Carlo simulations allow us to run thousands of randomized scenarios, helping to quantify the probability of failure or suboptimal performance under different conditions. This insight ensures that we optimize our design within a specified confidence interval, balancing performance and cost.\n",
        "\n",
        "**Modeling Process Times** The manufacturing process of corkscrews involves multiple stages, including material preparation, molding, machining, and assembly. Each stage has inherent variability in processing times due to machine efficiency, labor involvement, and environmental factors. Monte Carlo simulations can model these variations to identify bottlenecks and optimize scheduling, thereby improving production throughput and reducing costs.\n",
        "\n",
        "**Mechanical Strength of Design** Corkscrews must withstand significant forces, particularly during insertion and extraction of corks. Variability in applied torque, material imperfections, and structural design could lead to unexpected failures. By simulating the mechanical stresses under different conditions using Monte Carlo methods, we can predict the probability of structural failure and optimize material selection and component dimensions to enhance durability.\n",
        "\n",
        "**Fatigue Limits of Design** Repeated use of corkscrews subjects the device to cyclic loading, potentially leading to fatigue failure over time. Monte Carlo methods allow us to simulate different usage scenarios, estimating the number of cycles a corkscrew can endure before critical failure. This helps establish warranty periods and ensures compliance with quality standards by optimizing design parameters such as the pitch of the helix, handle leverage, and shaft diameter.\n",
        "\n",
        "**Changes in Heat and Mass Transfer of Devices** If our corkscrew incorporates coatings or heat-treated materials, thermal effects can impact mechanical properties. Monte Carlo simulations help us model variations in heat treatment processes, ensuring consistent performance across batches. Additionally, if mass transfer processes such as corrosion or wear affect the device’s lifespan, probabilistic modeling can help us assess longevity and maintenance requirements.\n",
        "\n",
        "**Accounting for External Variables** Beyond engineering considerations, external factors like user behavior, environmental conditions (humidity, temperature), and packaging stresses can impact corkscrew performance. Monte Carlo simulations integrate these stochastic elements into our design process, allowing for a more holistic evaluation of real-world performance and enhancing customer satisfaction.\n",
        "\n",
        "**Conclusion** Implementing Monte Carlo methods in corkscrew design provides a robust framework for assessing uncertainty, optimizing manufacturing processes, and improving product reliability. By leveraging these simulations, we can develop a more durable, cost-effective, and high-quality product that meets consumer demands while minimizing failure risks. I recommend incorporating Monte Carlo simulations into our engineering workflow to enhance decision-making and drive innovation in our product line."
      ]
    },
    {
      "cell_type": "markdown",
      "id": "670e5378",
      "metadata": {
        "id": "670e5378"
      },
      "source": [
        "## Revised document\n",
        "\n",
        "-> _copy-paste the document here, then edit the output to remove passive phrasing and add specific ideas from your own research or experience (try quantifying any phrases such as 'many', 'fewer', 'more important', etc._\n",
        "\n",
        "Technical Report: Justification for Using Monte Carlo Methods in Corkscrew Design**\n",
        "\n",
        "Monte Carlo (MC) simulation is a powerful statistical method used to analyze and quantify uncertainties in engineering design. Given the variability of cork screw production, implementing Monte Carlo models in the design and manufacturing process will enable us to enhance product reliability, efficiency, and robustness.\n",
        "\n",
        "Corkscrews are subject to multiple uncertainties, such as variations in material composition, user force application, and manufacturing tolerances. Traditional deterministic models may not accurately capture these uncertainties, leading to over- or under-designed components.\n",
        "\n",
        "The manufacturing process of corkscrews involves multiple stages, including material preparation, molding, machining, and assembly. Monte Carlo simulations can model variations to identify bottlenecks and optimize scheduling, thereby improving production throughput and reducing costs. One example of this is through the formation of the helix which must be heated at 1,500°F for 30 minutes, then at 2,100lF for five minutes. [Madehow](https://www.madehow.com/Volume-6/Corkscrew.html?utm_source=chatgpt.com). Monte Carlo simulations can look for a more optimal time and tempurature variations to potentially optimize scheduling and impove production cost.\n",
        "\n",
        "Corkscrews must withstand significant forces, particularly during insertion and extraction of corks. By simulating the mechanical stresses under different conditions, we can predict the probability of structural failure and optimize material selection and component dimensions to enhance durability.\n",
        "\n",
        "If our corkscrew incorporates coatings or heat-treated materials, thermal effects can impact mechanical properties. Monte Carlo simulations help us model variations in heat treatment processes, ensuring consistent performance across batches. Additionally, if mass transfer processes such as corrosion or wear affect the device’s lifespan, probabilistic modeling can help us assess longevity and maintenance requirements.\n",
        "\n",
        "Beyond engineering considerations, external factors like user behavior, environmental conditions (humidity, temperature), and packaging stresses can impact corkscrew performance. Monte Carlo simulations integrate these stochastic elements into our design process, allowing for a more holistic evaluation of real-world performance and enhancing customer satisfaction.\n",
        "\n",
        " Implementing Monte Carlo methods in corkscrew design provides a robust framework for assessing uncertainty, optimizing manufacturing processes, and improving product reliability. By leveraging these simulations, we can develop a more durable, cost-effective, and high-quality product that meets consumer demands while minimizing failure risks. I recommend incorporating Monte Carlo simulations into our engineering workflow to enhance decision-making and drive innovation in our product line."
      ]
    },
    {
      "cell_type": "markdown",
      "id": "62eb2b3d",
      "metadata": {
        "id": "62eb2b3d"
      },
      "source": [
        "_run the cell below to get your `tf_idf` functions ready to run_"
      ]
    },
    {
      "cell_type": "code",
      "execution_count": null,
      "id": "02b042fe-3d1f-45bf-a928-75a638e84468",
      "metadata": {
        "scrolled": true,
        "id": "02b042fe-3d1f-45bf-a928-75a638e84468",
        "outputId": "7aa8116a-7f54-4a63-d89c-e29243599ce6",
        "colab": {
          "base_uri": "https://localhost:8080/"
        }
      },
      "outputs": [
        {
          "output_type": "stream",
          "name": "stdout",
          "text": [
            "Collecting tf-idf-cosimm==0.0.2\n",
            "  Downloading tf_idf_cosimm-0.0.2-py3-none-any.whl.metadata (11 kB)\n",
            "Requirement already satisfied: numpy in /usr/local/lib/python3.11/dist-packages (from tf-idf-cosimm==0.0.2) (1.26.4)\n",
            "Requirement already satisfied: pandas in /usr/local/lib/python3.11/dist-packages (from tf-idf-cosimm==0.0.2) (2.2.2)\n",
            "Requirement already satisfied: nltk in /usr/local/lib/python3.11/dist-packages (from tf-idf-cosimm==0.0.2) (3.9.1)\n",
            "Requirement already satisfied: scikit-learn in /usr/local/lib/python3.11/dist-packages (from tf-idf-cosimm==0.0.2) (1.6.1)\n",
            "Requirement already satisfied: click in /usr/local/lib/python3.11/dist-packages (from nltk->tf-idf-cosimm==0.0.2) (8.1.8)\n",
            "Requirement already satisfied: joblib in /usr/local/lib/python3.11/dist-packages (from nltk->tf-idf-cosimm==0.0.2) (1.4.2)\n",
            "Requirement already satisfied: regex>=2021.8.3 in /usr/local/lib/python3.11/dist-packages (from nltk->tf-idf-cosimm==0.0.2) (2024.11.6)\n",
            "Requirement already satisfied: tqdm in /usr/local/lib/python3.11/dist-packages (from nltk->tf-idf-cosimm==0.0.2) (4.67.1)\n",
            "Requirement already satisfied: python-dateutil>=2.8.2 in /usr/local/lib/python3.11/dist-packages (from pandas->tf-idf-cosimm==0.0.2) (2.8.2)\n",
            "Requirement already satisfied: pytz>=2020.1 in /usr/local/lib/python3.11/dist-packages (from pandas->tf-idf-cosimm==0.0.2) (2024.2)\n",
            "Requirement already satisfied: tzdata>=2022.7 in /usr/local/lib/python3.11/dist-packages (from pandas->tf-idf-cosimm==0.0.2) (2025.1)\n",
            "Requirement already satisfied: scipy>=1.6.0 in /usr/local/lib/python3.11/dist-packages (from scikit-learn->tf-idf-cosimm==0.0.2) (1.13.1)\n",
            "Requirement already satisfied: threadpoolctl>=3.1.0 in /usr/local/lib/python3.11/dist-packages (from scikit-learn->tf-idf-cosimm==0.0.2) (3.5.0)\n",
            "Requirement already satisfied: six>=1.5 in /usr/local/lib/python3.11/dist-packages (from python-dateutil>=2.8.2->pandas->tf-idf-cosimm==0.0.2) (1.17.0)\n",
            "Downloading tf_idf_cosimm-0.0.2-py3-none-any.whl (9.2 kB)\n",
            "Installing collected packages: tf-idf-cosimm\n",
            "Successfully installed tf-idf-cosimm-0.0.2\n"
          ]
        }
      ],
      "source": [
        "! pip install tf-idf-cosimm==0.0.2"
      ]
    },
    {
      "cell_type": "code",
      "execution_count": null,
      "id": "e5bddc12-e642-4d85-bbc8-11f6f3bf887c",
      "metadata": {
        "id": "e5bddc12-e642-4d85-bbc8-11f6f3bf887c",
        "outputId": "9270060a-1a9d-46d2-bd6f-f9a64d7a48c5",
        "colab": {
          "base_uri": "https://localhost:8080/"
        }
      },
      "outputs": [
        {
          "output_type": "stream",
          "name": "stderr",
          "text": [
            "[nltk_data] Downloading package punkt to /root/nltk_data...\n",
            "[nltk_data]   Unzipping tokenizers/punkt.zip.\n"
          ]
        }
      ],
      "source": [
        "import tf_idf.core as tf_idf"
      ]
    },
    {
      "cell_type": "code",
      "execution_count": null,
      "id": "f0265e28-6f4d-450d-88b5-e4988d8e5390",
      "metadata": {
        "id": "f0265e28-6f4d-450d-88b5-e4988d8e5390",
        "outputId": "28e8e41d-ef00-422f-eda4-8d90c7408fd7"
      },
      "outputs": [
        {
          "data": {
            "text/html": [
              "<div>\n",
              "<style scoped>\n",
              "    .dataframe tbody tr th:only-of-type {\n",
              "        vertical-align: middle;\n",
              "    }\n",
              "\n",
              "    .dataframe tbody tr th {\n",
              "        vertical-align: top;\n",
              "    }\n",
              "\n",
              "    .dataframe thead th {\n",
              "        text-align: right;\n",
              "    }\n",
              "</style>\n",
              "<table border=\"1\" class=\"dataframe\">\n",
              "  <thead>\n",
              "    <tr style=\"text-align: right;\">\n",
              "      <th></th>\n",
              "      <th>DOCUMENT</th>\n",
              "      <th>LOWERCASE</th>\n",
              "      <th>CLEANING</th>\n",
              "      <th>TOKENIZATION</th>\n",
              "      <th>STOP-WORDS</th>\n",
              "      <th>STEMMING</th>\n",
              "    </tr>\n",
              "  </thead>\n",
              "  <tbody>\n",
              "    <tr>\n",
              "      <th>0</th>\n",
              "      <td>text from chatGPT</td>\n",
              "      <td>text from chatgpt</td>\n",
              "      <td>text from chatgpt</td>\n",
              "      <td>[text, from, chatgpt]</td>\n",
              "      <td>[text, chatgpt]</td>\n",
              "      <td>[text, chatgpt]</td>\n",
              "    </tr>\n",
              "  </tbody>\n",
              "</table>\n",
              "</div>"
            ],
            "text/plain": [
              "              DOCUMENT            LOWERCASE           CLEANING  \\\n",
              "0   text from chatGPT    text from chatgpt   text from chatgpt   \n",
              "\n",
              "            TOKENIZATION       STOP-WORDS         STEMMING  \n",
              "0  [text, from, chatgpt]  [text, chatgpt]  [text, chatgpt]  "
            ]
          },
          "execution_count": 3,
          "metadata": {},
          "output_type": "execute_result"
        }
      ],
      "source": [
        "AI = '''text from chatGPT'''\n",
        "compare = tf_idf.preprocess_text(AI)"
      ]
    },
    {
      "cell_type": "code",
      "execution_count": null,
      "id": "c34026c8-5d48-4d8f-9b2e-88de15bb041e",
      "metadata": {
        "id": "c34026c8-5d48-4d8f-9b2e-88de15bb041e",
        "outputId": "dfaa0a2e-aae0-4a95-fc13-b99e2513ab43"
      },
      "outputs": [
        {
          "data": {
            "text/html": [
              "<div>\n",
              "<style scoped>\n",
              "    .dataframe tbody tr th:only-of-type {\n",
              "        vertical-align: middle;\n",
              "    }\n",
              "\n",
              "    .dataframe tbody tr th {\n",
              "        vertical-align: top;\n",
              "    }\n",
              "\n",
              "    .dataframe thead th {\n",
              "        text-align: right;\n",
              "    }\n",
              "</style>\n",
              "<table border=\"1\" class=\"dataframe\">\n",
              "  <thead>\n",
              "    <tr style=\"text-align: right;\">\n",
              "      <th></th>\n",
              "      <th>DOCUMENT</th>\n",
              "      <th>LOWERCASE</th>\n",
              "      <th>CLEANING</th>\n",
              "      <th>TOKENIZATION</th>\n",
              "      <th>STOP-WORDS</th>\n",
              "      <th>STEMMING</th>\n",
              "    </tr>\n",
              "  </thead>\n",
              "  <tbody>\n",
              "    <tr>\n",
              "      <th>0</th>\n",
              "      <td>text from chatGPT</td>\n",
              "      <td>text from chatgpt</td>\n",
              "      <td>text from chatgpt</td>\n",
              "      <td>[text, from, chatgpt]</td>\n",
              "      <td>[text, chatgpt]</td>\n",
              "      <td>[text, chatgpt]</td>\n",
              "    </tr>\n",
              "    <tr>\n",
              "      <th>1</th>\n",
              "      <td>my edited text</td>\n",
              "      <td>my edited text</td>\n",
              "      <td>my edited text</td>\n",
              "      <td>[my, edited, text]</td>\n",
              "      <td>[edited, text]</td>\n",
              "      <td>[edit, text]</td>\n",
              "    </tr>\n",
              "  </tbody>\n",
              "</table>\n",
              "</div>"
            ],
            "text/plain": [
              "              DOCUMENT            LOWERCASE           CLEANING  \\\n",
              "0   text from chatGPT    text from chatgpt   text from chatgpt   \n",
              "1      my edited text       my edited text      my edited text   \n",
              "\n",
              "            TOKENIZATION       STOP-WORDS         STEMMING  \n",
              "0  [text, from, chatgpt]  [text, chatgpt]  [text, chatgpt]  \n",
              "1     [my, edited, text]   [edited, text]     [edit, text]  "
            ]
          },
          "execution_count": 4,
          "metadata": {},
          "output_type": "execute_result"
        }
      ],
      "source": [
        "ME = '''my edited text'''\n",
        "compare = pd.concat([compare, tf_idf.preprocess_text(ME)],\n",
        "                    ignore_index=True)\n",
        "compare"
      ]
    },
    {
      "cell_type": "code",
      "execution_count": null,
      "id": "385e4ea0-c41d-44ae-8db2-e791e7cfe693",
      "metadata": {
        "id": "385e4ea0-c41d-44ae-8db2-e791e7cfe693",
        "outputId": "0fca2cf4-485b-4a5e-bcac-ffd662807e97"
      },
      "outputs": [
        {
          "data": {
            "text/html": [
              "<div>\n",
              "<style scoped>\n",
              "    .dataframe tbody tr th:only-of-type {\n",
              "        vertical-align: middle;\n",
              "    }\n",
              "\n",
              "    .dataframe tbody tr th {\n",
              "        vertical-align: top;\n",
              "    }\n",
              "\n",
              "    .dataframe thead th {\n",
              "        text-align: right;\n",
              "    }\n",
              "</style>\n",
              "<table border=\"1\" class=\"dataframe\">\n",
              "  <thead>\n",
              "    <tr style=\"text-align: right;\">\n",
              "      <th></th>\n",
              "      <th>DOCUMENT</th>\n",
              "      <th>STEMMING</th>\n",
              "      <th>COSIM</th>\n",
              "    </tr>\n",
              "  </thead>\n",
              "  <tbody>\n",
              "    <tr>\n",
              "      <th>0</th>\n",
              "      <td>text from chatGPT</td>\n",
              "      <td>[text, chatgpt]</td>\n",
              "      <td>1.000000</td>\n",
              "    </tr>\n",
              "    <tr>\n",
              "      <th>1</th>\n",
              "      <td>my edited text</td>\n",
              "      <td>[edit, text]</td>\n",
              "      <td>0.336097</td>\n",
              "    </tr>\n",
              "  </tbody>\n",
              "</table>\n",
              "</div>"
            ],
            "text/plain": [
              "              DOCUMENT         STEMMING     COSIM\n",
              "0   text from chatGPT   [text, chatgpt]  1.000000\n",
              "1      my edited text      [edit, text]  0.336097"
            ]
          },
          "execution_count": 5,
          "metadata": {},
          "output_type": "execute_result"
        }
      ],
      "source": [
        "tf_idf.cosineSimilarity(compare)"
      ]
    },
    {
      "cell_type": "markdown",
      "id": "5ffef0d6",
      "metadata": {
        "id": "5ffef0d6"
      },
      "source": [
        "## Document analysis\n",
        "\n",
        "- Make a list of all the improvements and changes you made to document\n",
        "- use the `tf_idf.cosineSimilarity` function to compare the AI version to your own\n",
        "\n",
        "Write a report on your intellectual property  in the 'revised document'.\n",
        "- How much can you claim as yours?\n",
        "- How many ideas came from AI?\n",
        "- How many ideas came from you?\n",
        "- Is this a _new_ document?\n",
        "- If this work was made by you and another person-not AI-would you need to credit this person as a coauthor?\n",
        "- What else can you discuss about this comparison and this process?"
      ]
    },
    {
      "cell_type": "code",
      "execution_count": null,
      "id": "980502d2",
      "metadata": {
        "id": "980502d2"
      },
      "outputs": [],
      "source": []
    }
  ],
  "metadata": {
    "jupytext": {
      "formats": "md:myst,ipynb"
    },
    "kernelspec": {
      "display_name": "Python 3 (ipykernel)",
      "language": "python",
      "name": "python3"
    },
    "language_info": {
      "codemirror_mode": {
        "name": "ipython",
        "version": 3
      },
      "file_extension": ".py",
      "mimetype": "text/x-python",
      "name": "python",
      "nbconvert_exporter": "python",
      "pygments_lexer": "ipython3",
      "version": "3.10.14"
    },
    "colab": {
      "provenance": [],
      "include_colab_link": true
    }
  },
  "nbformat": 4,
  "nbformat_minor": 5
}